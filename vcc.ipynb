{
 "cells": [
  {
   "cell_type": "markdown",
   "source": [
    "# VERVE CODING CHALLENGE"
   ],
   "metadata": {
    "collapsed": false
   }
  },
  {
   "cell_type": "markdown",
   "source": [
    "### Importing useful Libraries"
   ],
   "metadata": {
    "collapsed": false
   }
  },
  {
   "cell_type": "code",
   "execution_count": 78,
   "outputs": [],
   "source": [
    "from pyspark.sql import SparkSession\n",
    "from pyspark.sql import functions as F\n",
    "from urllib.request import urlopen"
   ],
   "metadata": {
    "collapsed": false,
    "pycharm": {
     "name": "#%%\n"
    }
   }
  },
  {
   "cell_type": "markdown",
   "source": [
    "### Starting Spark Session with 8 cores"
   ],
   "metadata": {
    "collapsed": false
   }
  },
  {
   "cell_type": "code",
   "execution_count": 79,
   "outputs": [],
   "source": [
    "spark = SparkSession.builder \\\n",
    "    .master(\"local[8]\") \\\n",
    "    .appName(\"VerveCodingChallenge\") \\\n",
    "    .config(\"spark.some.config.option\", \"vcc\") \\\n",
    "    .getOrCreate()"
   ],
   "metadata": {
    "collapsed": false,
    "pycharm": {
     "name": "#%%\n"
    }
   }
  },
  {
   "cell_type": "markdown",
   "source": [
    "# QUESTION 1:\n",
    "\n",
    "## Reading events stored in JSON files"
   ],
   "metadata": {
    "collapsed": false
   }
  },
  {
   "cell_type": "markdown",
   "source": [
    "### Loading the URL JSON Dataset file path"
   ],
   "metadata": {
    "collapsed": false
   }
  },
  {
   "cell_type": "code",
   "execution_count": 80,
   "outputs": [],
   "source": [
    "path_1 = \"https://gist.githubusercontent.com/mpasa/9a710abe1f93335fa00dddae3d6e9401/raw/b573f05afc5ee0915ba1b0c3d56734d571fe3a56/clicks.json\"\n",
    "path_2 = \"https://gist.githubusercontent.com/mpasa/9a710abe1f93335fa00dddae3d6e9401/raw/b573f05afc5ee0915ba1b0c3d56734d571fe3a56/impressions.json\""
   ],
   "metadata": {
    "collapsed": false,
    "pycharm": {
     "name": "#%%\n"
    }
   }
  },
  {
   "cell_type": "markdown",
   "source": [
    "### Reading and parsing the JSON files into Spark DataFrame"
   ],
   "metadata": {
    "collapsed": false
   }
  },
  {
   "cell_type": "code",
   "execution_count": 81,
   "outputs": [],
   "source": [
    "def read_json(p1, p2):\n",
    "  clicks_json = (urlopen(path_1).read().decode('utf-8'))\n",
    "  clicks_rdd = spark.sparkContext.parallelize([clicks_json])\n",
    "  clicks = spark.read.json(clicks_rdd)\n",
    "\n",
    "  impressions_json = (urlopen(path_2).read().decode('utf-8'))\n",
    "  impressions_rdd = spark.sparkContext.parallelize([impressions_json])\n",
    "  impressions = spark.read.json(impressions_rdd)\n",
    "\n",
    "  return clicks, impressions"
   ],
   "metadata": {
    "collapsed": false,
    "pycharm": {
     "name": "#%%\n"
    }
   }
  },
  {
   "cell_type": "code",
   "execution_count": 82,
   "outputs": [
    {
     "name": "stdout",
     "output_type": "stream",
     "text": [
      "+--------------------+------------------+\n",
      "|       impression_id|           revenue|\n",
      "+--------------------+------------------+\n",
      "|97dd2a0f-6d42-4c6...| 2.091225600111518|\n",
      "|43bd7feb-3fea-40b...|2.4794577548980876|\n",
      "|1b04c706-e3d7-4f7...|1.0617394700223026|\n",
      "|31214d91-d950-446...| 2.074762244925742|\n",
      "|fbb52038-4db1-46d...|2.7837584244414537|\n",
      "+--------------------+------------------+\n",
      "only showing top 5 rows\n",
      "\n",
      "+-------------+------+------------+--------------------+\n",
      "|advertiser_id|app_id|country_code|                  id|\n",
      "+-------------+------+------------+--------------------+\n",
      "|            8|    32|          UK|a39747e8-9c58-41d...|\n",
      "|           17|    30|        null|5deacf2d-833a-454...|\n",
      "|           15|     4|          IT|2ae9fd3f-4c70-4d9...|\n",
      "|           20|    22|          IT|fbb52038-4db1-46d...|\n",
      "|           32|     9|            |b15449b6-14c9-406...|\n",
      "+-------------+------+------------+--------------------+\n",
      "only showing top 5 rows\n",
      "\n"
     ]
    },
    {
     "data": {
      "text/plain": "(None, None)"
     },
     "execution_count": 82,
     "metadata": {},
     "output_type": "execute_result"
    }
   ],
   "source": [
    "clicks, impressions = read_json(path_1, path_2)\n",
    "clicks.show(5), impressions.show(5)"
   ],
   "metadata": {
    "collapsed": false,
    "pycharm": {
     "name": "#%%\n"
    }
   }
  },
  {
   "cell_type": "markdown",
   "source": [
    "# QUESTION 2:\n",
    "\n",
    "## Calculating metrics for some dimensions"
   ],
   "metadata": {
    "collapsed": false
   }
  },
  {
   "cell_type": "markdown",
   "source": [],
   "metadata": {
    "collapsed": false
   }
  },
  {
   "cell_type": "markdown",
   "source": [
    "### MERGING THE DATASETS\n",
    "\n",
    "In order to effectively perform the needed operation on the Datasets, the need to create a single view of the two tables is inevitable.\n",
    "\n",
    "Doing this will give the ease to pass queries for the needed metrics."
   ],
   "metadata": {
    "collapsed": false,
    "pycharm": {
     "name": "#%% md\n"
    }
   }
  },
  {
   "cell_type": "code",
   "execution_count": 83,
   "outputs": [
    {
     "name": "stdout",
     "output_type": "stream",
     "text": [
      "+-------------+------+------------+--------------------+--------------------+------------------+\n",
      "|advertiser_id|app_id|country_code|                  id|       impression_id|           revenue|\n",
      "+-------------+------+------------+--------------------+--------------------+------------------+\n",
      "|           27|    30|          DE|8a391b7a-219e-4dc...|8a391b7a-219e-4dc...|1.9016930019722926|\n",
      "|           27|    30|          DE|8a391b7a-219e-4dc...|8a391b7a-219e-4dc...|1.9016930019722926|\n",
      "|           27|    30|          DE|8a391b7a-219e-4dc...|8a391b7a-219e-4dc...|1.9016930019722926|\n",
      "|           27|    30|          DE|8a391b7a-219e-4dc...|8a391b7a-219e-4dc...|1.9016930019722926|\n",
      "|           27|    30|          DE|8a391b7a-219e-4dc...|8a391b7a-219e-4dc...|1.9016930019722926|\n",
      "+-------------+------+------------+--------------------+--------------------+------------------+\n",
      "only showing top 5 rows\n",
      "\n"
     ]
    }
   ],
   "source": [
    "df = impressions.join(clicks,impressions.id == clicks.impression_id, \"inner\")\n",
    "df.show(5)"
   ],
   "metadata": {
    "collapsed": false,
    "pycharm": {
     "name": "#%%\n"
    }
   }
  },
  {
   "cell_type": "markdown",
   "source": [
    "### Getting the required metrics"
   ],
   "metadata": {
    "collapsed": false
   }
  },
  {
   "cell_type": "code",
   "execution_count": 84,
   "outputs": [],
   "source": [
    "metricsOnDimension = df \\\n",
    "                        .groupBy([\"app_id\", \"country_code\"]) \\\n",
    "                        .agg\\\n",
    "                        (\n",
    "                             F.count(\"id\").alias(\"impressions\"),\n",
    "                             F.countDistinct(\"revenue\").alias(\"clicks\"),\n",
    "                             F.sum(\"revenue\").alias(\"revenue\")\n",
    "                        ) \\\n",
    "                        .filter(\"country_code is not null\") \\\n",
    "                        .sort(F.col(\"app_id\").cast(\"int\"))"
   ],
   "metadata": {
    "collapsed": false,
    "pycharm": {
     "name": "#%%\n"
    }
   }
  },
  {
   "cell_type": "code",
   "execution_count": 85,
   "outputs": [
    {
     "name": "stdout",
     "output_type": "stream",
     "text": [
      "43\n"
     ]
    }
   ],
   "source": [
    "print(metricsOnDimension.count())"
   ],
   "metadata": {
    "collapsed": false,
    "pycharm": {
     "name": "#%%\n"
    }
   }
  },
  {
   "cell_type": "markdown",
   "source": [
    "### Format conversion for ease of aceess"
   ],
   "metadata": {
    "collapsed": false
   }
  },
  {
   "cell_type": "code",
   "execution_count": 86,
   "outputs": [],
   "source": [
    "type(metricsOnDimension)\n",
    "metricsOnDimension_pd = metricsOnDimension.toPandas()"
   ],
   "metadata": {
    "collapsed": false,
    "pycharm": {
     "name": "#%%\n"
    }
   }
  },
  {
   "cell_type": "code",
   "execution_count": 87,
   "outputs": [
    {
     "data": {
      "text/plain": "  app_id country_code  impressions  clicks     revenue\n0      1           IT           21       1   48.090640\n1      2                        62       2   77.821671\n2      4           IT           46       2  101.783842\n3      5           IT           32       2   82.184541\n4      5           DE           21       1   16.562941",
      "text/html": "<div>\n<style scoped>\n    .dataframe tbody tr th:only-of-type {\n        vertical-align: middle;\n    }\n\n    .dataframe tbody tr th {\n        vertical-align: top;\n    }\n\n    .dataframe thead th {\n        text-align: right;\n    }\n</style>\n<table border=\"1\" class=\"dataframe\">\n  <thead>\n    <tr style=\"text-align: right;\">\n      <th></th>\n      <th>app_id</th>\n      <th>country_code</th>\n      <th>impressions</th>\n      <th>clicks</th>\n      <th>revenue</th>\n    </tr>\n  </thead>\n  <tbody>\n    <tr>\n      <th>0</th>\n      <td>1</td>\n      <td>IT</td>\n      <td>21</td>\n      <td>1</td>\n      <td>48.090640</td>\n    </tr>\n    <tr>\n      <th>1</th>\n      <td>2</td>\n      <td></td>\n      <td>62</td>\n      <td>2</td>\n      <td>77.821671</td>\n    </tr>\n    <tr>\n      <th>2</th>\n      <td>4</td>\n      <td>IT</td>\n      <td>46</td>\n      <td>2</td>\n      <td>101.783842</td>\n    </tr>\n    <tr>\n      <th>3</th>\n      <td>5</td>\n      <td>IT</td>\n      <td>32</td>\n      <td>2</td>\n      <td>82.184541</td>\n    </tr>\n    <tr>\n      <th>4</th>\n      <td>5</td>\n      <td>DE</td>\n      <td>21</td>\n      <td>1</td>\n      <td>16.562941</td>\n    </tr>\n  </tbody>\n</table>\n</div>"
     },
     "execution_count": 87,
     "metadata": {},
     "output_type": "execute_result"
    }
   ],
   "source": [
    "metricsOnDimension_pd.head(5)"
   ],
   "metadata": {
    "collapsed": false,
    "pycharm": {
     "name": "#%%\n"
    }
   }
  },
  {
   "cell_type": "markdown",
   "source": [
    "### Outputting the Result as a JSON file"
   ],
   "metadata": {
    "collapsed": false,
    "pycharm": {
     "name": "#%% md\n"
    }
   }
  },
  {
   "cell_type": "code",
   "execution_count": 88,
   "outputs": [],
   "source": [
    "sourceFile_2 = open('Question_2_result_output.json', 'w')\n",
    "for index, item in metricsOnDimension_pd.iterrows():\n",
    "    # ad_id.append(item[1])\n",
    "    print(\"\\n\\t{\\n\\t\\t\\\"app_id\\\":\", item[\"app_id\"], \"\\n \\t\\t\\\"country_code\\\":\", item[\"country_code\"], \"\\n \\t\\t\\\"impressions\\\":\", item[\"impressions\"],  \"\\n \\t\\t\\\"clicks\\\":\", item[\"clicks\"],  \"\\n \\t\\t\\\"revenue\\\":\", item[\"revenue\"],\"\\n\\t},\", file = sourceFile_2)\n",
    "sourceFile_2.close()"
   ],
   "metadata": {
    "collapsed": false,
    "pycharm": {
     "name": "#%%\n"
    }
   }
  },
  {
   "cell_type": "code",
   "execution_count": 89,
   "outputs": [
    {
     "name": "stdout",
     "output_type": "stream",
     "text": [
      "\r\n",
      "\t{\r\n",
      "\t\t\"app_id\": 1 \r\n",
      " \t\t\"country_code\": IT \r\n",
      " \t\t\"impressions\": 21 \r\n",
      " \t\t\"clicks\": 1 \r\n",
      " \t\t\"revenue\": 48.09063975343832 \r\n",
      "\t},\r\n",
      "\r\n",
      "\t{\r\n",
      "\t\t\"app_id\": 2 \r\n",
      " \t\t\"country_code\":  \r\n",
      " \t\t\"impressions\": 62 \r\n",
      " \t\t\"clicks\": 2 \r\n",
      " \t\t\"revenue\": 77.82167117446404 \r\n",
      "\t},\r\n",
      "\r\n",
      "\t{\r\n",
      "\t\t\"app_id\": 4 \r\n",
      " \t\t\"country_code\": IT \r\n",
      " \t\t\"impressions\": 46 \r\n",
      " \t\t\"clicks\": 2 \r\n",
      " \t\t\"revenue\": 101.78384185682643 \r\n",
      "\t},\r\n",
      "\r\n",
      "\t{\r\n",
      "\t\t\"app_id\": 5 \r\n",
      " \t\t\"country_code\": IT \r\n",
      " \t\t\"impressions\": 32 \r\n",
      " \t\t\"clicks\": 2 \r\n",
      " \t\t\"revenue\": 82.18454096576062 \r\n",
      "\t},\r\n",
      "\r\n",
      "\t{\r\n",
      "\t\t\"app_id\": 5 \r\n",
      " \t\t\"country_code\": DE \r\n",
      " \t\t\"impressions\": 21 \r\n",
      " \t\t\"clicks\": 1 \r\n",
      " \t\t\"revenue\": 16.562940714608928 \r\n",
      "\t},\r\n",
      "\r\n",
      "\t{\r\n",
      "\t\t\"app_id\": 6 \r\n",
      " \t\t\"country_code\":  \r\n",
      " \t\t\"impressions\": 60 \r\n",
      " \t\t\"clicks\": 2 \r\n",
      " \t\t\"revenue\": 83.23202626929094 \r\n",
      "\t},\r\n",
      "\r\n",
      "\t{\r\n",
      "\t\t\"app_id\": 7 \r\n",
      " \t\t\"country_code\": IT \r\n",
      " \t\t\"impressions\": 10 \r\n",
      " \t\t\"clicks\": 1 \r\n",
      " \t\t\"revenue\": 9.348166491994709 \r\n",
      "\t},\r\n",
      "\r\n",
      "\t{\r\n",
      "\t\t\"app_id\": 7 \r\n",
      " \t\t\"country_code\": DE \r\n",
      " \t\t\"impressions\": 32 \r\n",
      " \t\t\"clicks\": 1 \r\n",
      " \t\t\"revenue\": 11.411954343923577 \r\n",
      "\t},\r\n",
      "\r\n",
      "\t{\r\n",
      "\t\t\"app_id\": 9 \r\n",
      " \t\t\"country_code\": US \r\n",
      " \t\t\"impressions\": 58 \r\n",
      " \t\t\"clicks\": 2 \r\n",
      " \t\t\"revenue\": 80.90569408371142 \r\n",
      "\t},\r\n",
      "\r\n",
      "\t{\r\n",
      "\t\t\"app_id\": 9 \r\n",
      " \t\t\"country_code\":  \r\n",
      " \t\t\"impressions\": 21 \r\n",
      " \t\t\"clicks\": 1 \r\n",
      " \t\t\"revenue\": 42.26595851691583 \r\n",
      "\t},\r\n",
      "\r\n",
      "\t{\r\n",
      "\t\t\"app_id\": 10 \r\n",
      " \t\t\"country_code\": US \r\n",
      " \t\t\"impressions\": 44 \r\n",
      " \t\t\"clicks\": 2 \r\n",
      " \t\t\"revenue\": 29.66703042318259 \r\n",
      "\t},\r\n",
      "\r\n",
      "\t{\r\n",
      "\t\t\"app_id\": 11 \r\n",
      " \t\t\"country_code\": US \r\n",
      " \t\t\"impressions\": 9 \r\n",
      " \t\t\"clicks\": 1 \r\n",
      " \t\t\"revenue\": 16.06565847408894 \r\n",
      "\t},\r\n",
      "\r\n",
      "\t{\r\n",
      "\t\t\"app_id\": 13 \r\n",
      " \t\t\"country_code\": US \r\n",
      " \t\t\"impressions\": 66 \r\n",
      " \t\t\"clicks\": 2 \r\n",
      " \t\t\"revenue\": 85.98714294381854 \r\n",
      "\t},\r\n",
      "\r\n",
      "\t{\r\n",
      "\t\t\"app_id\": 13 \r\n",
      " \t\t\"country_code\":  \r\n",
      " \t\t\"impressions\": 23 \r\n",
      " \t\t\"clicks\": 1 \r\n",
      " \t\t\"revenue\": 24.45852430570718 \r\n",
      "\t},\r\n",
      "\r\n",
      "\t{\r\n",
      "\t\t\"app_id\": 13 \r\n",
      " \t\t\"country_code\": DE \r\n",
      " \t\t\"impressions\": 22 \r\n",
      " \t\t\"clicks\": 1 \r\n",
      " \t\t\"revenue\": 10.190921460465525 \r\n",
      "\t},\r\n",
      "\r\n",
      "\t{\r\n",
      "\t\t\"app_id\": 14 \r\n",
      " \t\t\"country_code\": UK \r\n",
      " \t\t\"impressions\": 18 \r\n",
      " \t\t\"clicks\": 1 \r\n",
      " \t\t\"revenue\": 42.2120504831149 \r\n",
      "\t},\r\n",
      "\r\n",
      "\t{\r\n",
      "\t\t\"app_id\": 15 \r\n",
      " \t\t\"country_code\": US \r\n",
      " \t\t\"impressions\": 25 \r\n",
      " \t\t\"clicks\": 1 \r\n",
      " \t\t\"revenue\": 53.38109930710306 \r\n",
      "\t},\r\n",
      "\r\n",
      "\t{\r\n",
      "\t\t\"app_id\": 15 \r\n",
      " \t\t\"country_code\":  \r\n",
      " \t\t\"impressions\": 38 \r\n",
      " \t\t\"clicks\": 1 \r\n",
      " \t\t\"revenue\": 63.52933382616075 \r\n",
      "\t},\r\n",
      "\r\n",
      "\t{\r\n",
      "\t\t\"app_id\": 16 \r\n",
      " \t\t\"country_code\": US \r\n",
      " \t\t\"impressions\": 72 \r\n",
      " \t\t\"clicks\": 3 \r\n",
      " \t\t\"revenue\": 119.59955240848264 \r\n",
      "\t},\r\n",
      "\r\n",
      "\t{\r\n",
      "\t\t\"app_id\": 16 \r\n",
      " \t\t\"country_code\": UK \r\n",
      " \t\t\"impressions\": 72 \r\n",
      " \t\t\"clicks\": 4 \r\n",
      " \t\t\"revenue\": 126.29885368791363 \r\n",
      "\t},\r\n",
      "\r\n",
      "\t{\r\n",
      "\t\t\"app_id\": 18 \r\n",
      " \t\t\"country_code\": IT \r\n",
      " \t\t\"impressions\": 22 \r\n",
      " \t\t\"clicks\": 1 \r\n",
      " \t\t\"revenue\": 63.36930093404926 \r\n",
      "\t},\r\n",
      "\r\n",
      "\t{\r\n",
      "\t\t\"app_id\": 18 \r\n",
      " \t\t\"country_code\": DE \r\n",
      " \t\t\"impressions\": 16 \r\n",
      " \t\t\"clicks\": 1 \r\n",
      " \t\t\"revenue\": 6.211200202586701 \r\n",
      "\t},\r\n",
      "\r\n",
      "\t{\r\n",
      "\t\t\"app_id\": 19 \r\n",
      " \t\t\"country_code\":  \r\n",
      " \t\t\"impressions\": 13 \r\n",
      " \t\t\"clicks\": 1 \r\n",
      " \t\t\"revenue\": 17.192704459575573 \r\n",
      "\t},\r\n",
      "\r\n",
      "\t{\r\n",
      "\t\t\"app_id\": 21 \r\n",
      " \t\t\"country_code\": DE \r\n",
      " \t\t\"impressions\": 28 \r\n",
      " \t\t\"clicks\": 2 \r\n",
      " \t\t\"revenue\": 16.414227540534306 \r\n",
      "\t},\r\n",
      "\r\n",
      "\t{\r\n",
      "\t\t\"app_id\": 22 \r\n",
      " \t\t\"country_code\": IT \r\n",
      " \t\t\"impressions\": 114 \r\n",
      " \t\t\"clicks\": 3 \r\n",
      " \t\t\"revenue\": 302.8735178179492 \r\n",
      "\t},\r\n",
      "\r\n",
      "\t{\r\n",
      "\t\t\"app_id\": 22 \r\n",
      " \t\t\"country_code\": DE \r\n",
      " \t\t\"impressions\": 26 \r\n",
      " \t\t\"clicks\": 2 \r\n",
      " \t\t\"revenue\": 64.4926417205577 \r\n",
      "\t},\r\n",
      "\r\n",
      "\t{\r\n",
      "\t\t\"app_id\": 23 \r\n",
      " \t\t\"country_code\": US \r\n",
      " \t\t\"impressions\": 53 \r\n",
      " \t\t\"clicks\": 3 \r\n",
      " \t\t\"revenue\": 95.4753279609535 \r\n",
      "\t},\r\n",
      "\r\n",
      "\t{\r\n",
      "\t\t\"app_id\": 24 \r\n",
      " \t\t\"country_code\":  \r\n",
      " \t\t\"impressions\": 25 \r\n",
      " \t\t\"clicks\": 1 \r\n",
      " \t\t\"revenue\": 2.6305837237995835 \r\n",
      "\t},\r\n",
      "\r\n",
      "\t{\r\n",
      "\t\t\"app_id\": 24 \r\n",
      " \t\t\"country_code\": UK \r\n",
      " \t\t\"impressions\": 64 \r\n",
      " \t\t\"clicks\": 2 \r\n",
      " \t\t\"revenue\": 109.83856969495784 \r\n",
      "\t},\r\n",
      "\r\n",
      "\t{\r\n",
      "\t\t\"app_id\": 25 \r\n",
      " \t\t\"country_code\":  \r\n",
      " \t\t\"impressions\": 27 \r\n",
      " \t\t\"clicks\": 1 \r\n",
      " \t\t\"revenue\": 58.15763701051169 \r\n",
      "\t},\r\n",
      "\r\n",
      "\t{\r\n",
      "\t\t\"app_id\": 25 \r\n",
      " \t\t\"country_code\": UK \r\n",
      " \t\t\"impressions\": 18 \r\n",
      " \t\t\"clicks\": 1 \r\n",
      " \t\t\"revenue\": 33.28827242835068 \r\n",
      "\t},\r\n",
      "\r\n",
      "\t{\r\n",
      "\t\t\"app_id\": 26 \r\n",
      " \t\t\"country_code\": DE \r\n",
      " \t\t\"impressions\": 28 \r\n",
      " \t\t\"clicks\": 1 \r\n",
      " \t\t\"revenue\": 44.467305314479475 \r\n",
      "\t},\r\n",
      "\r\n",
      "\t{\r\n",
      "\t\t\"app_id\": 27 \r\n",
      " \t\t\"country_code\": IT \r\n",
      " \t\t\"impressions\": 33 \r\n",
      " \t\t\"clicks\": 1 \r\n",
      " \t\t\"revenue\": 19.20919765174614 \r\n",
      "\t},\r\n",
      "\r\n",
      "\t{\r\n",
      "\t\t\"app_id\": 28 \r\n",
      " \t\t\"country_code\": US \r\n",
      " \t\t\"impressions\": 152 \r\n",
      " \t\t\"clicks\": 4 \r\n",
      " \t\t\"revenue\": 316.42904979333747 \r\n",
      "\t},\r\n",
      "\r\n",
      "\t{\r\n",
      "\t\t\"app_id\": 30 \r\n",
      " \t\t\"country_code\": US \r\n",
      " \t\t\"impressions\": 197 \r\n",
      " \t\t\"clicks\": 6 \r\n",
      " \t\t\"revenue\": 195.58479317023608 \r\n",
      "\t},\r\n",
      "\r\n",
      "\t{\r\n",
      "\t\t\"app_id\": 30 \r\n",
      " \t\t\"country_code\": DE \r\n",
      " \t\t\"impressions\": 22 \r\n",
      " \t\t\"clicks\": 2 \r\n",
      " \t\t\"revenue\": 50.48608318583567 \r\n",
      "\t},\r\n",
      "\r\n",
      "\t{\r\n",
      "\t\t\"app_id\": 33 \r\n",
      " \t\t\"country_code\": US \r\n",
      " \t\t\"impressions\": 12 \r\n",
      " \t\t\"clicks\": 1 \r\n",
      " \t\t\"revenue\": 22.241747566824856 \r\n",
      "\t},\r\n",
      "\r\n",
      "\t{\r\n",
      "\t\t\"app_id\": 34 \r\n",
      " \t\t\"country_code\": DE \r\n",
      " \t\t\"impressions\": 68 \r\n",
      " \t\t\"clicks\": 2 \r\n",
      " \t\t\"revenue\": 125.75102063028564 \r\n",
      "\t},\r\n",
      "\r\n",
      "\t{\r\n",
      "\t\t\"app_id\": 35 \r\n",
      " \t\t\"country_code\": IT \r\n",
      " \t\t\"impressions\": 29 \r\n",
      " \t\t\"clicks\": 1 \r\n",
      " \t\t\"revenue\": 7.045305230991874 \r\n",
      "\t},\r\n",
      "\r\n",
      "\t{\r\n",
      "\t\t\"app_id\": 38 \r\n",
      " \t\t\"country_code\":  \r\n",
      " \t\t\"impressions\": 20 \r\n",
      " \t\t\"clicks\": 1 \r\n",
      " \t\t\"revenue\": 36.03091053578042 \r\n",
      "\t},\r\n",
      "\r\n",
      "\t{\r\n",
      "\t\t\"app_id\": 38 \r\n",
      " \t\t\"country_code\": IT \r\n",
      " \t\t\"impressions\": 62 \r\n",
      " \t\t\"clicks\": 2 \r\n",
      " \t\t\"revenue\": 80.4917931072165 \r\n",
      "\t},\r\n",
      "\r\n",
      "\t{\r\n",
      "\t\t\"app_id\": 39 \r\n",
      " \t\t\"country_code\": US \r\n",
      " \t\t\"impressions\": 13 \r\n",
      " \t\t\"clicks\": 1 \r\n",
      " \t\t\"revenue\": 17.15715166893303 \r\n",
      "\t},\r\n",
      "\r\n",
      "\t{\r\n",
      "\t\t\"app_id\": 40 \r\n",
      " \t\t\"country_code\": DE \r\n",
      " \t\t\"impressions\": 120 \r\n",
      " \t\t\"clicks\": 4 \r\n",
      " \t\t\"revenue\": 181.52466301192325 \r\n",
      "\t},\r\n"
     ]
    }
   ],
   "source": [
    "%cat Question_2_result_output.json > \"/home/computech/PycharmProjects/VCC/venv/vccarena/Q2_output.json\"\n",
    "%cat Question_2_result_output.json"
   ],
   "metadata": {
    "collapsed": false,
    "pycharm": {
     "name": "#%%\n"
    }
   }
  },
  {
   "cell_type": "markdown",
   "source": [
    "# QUESTION 3:\n",
    "\n",
    "### Making recommendation for top 5 advertiser per 'app_id', per 'country_code'"
   ],
   "metadata": {
    "collapsed": false
   }
  },
  {
   "cell_type": "markdown",
   "source": [
    "### Performing the needed operation"
   ],
   "metadata": {
    "collapsed": false
   }
  },
  {
   "cell_type": "code",
   "execution_count": 90,
   "outputs": [
    {
     "name": "stdout",
     "output_type": "stream",
     "text": [
      "+------+------------+-------------+------------------+\n",
      "|app_id|country_code|advertiser_id|     Total Revenue|\n",
      "+------+------------+-------------+------------------+\n",
      "|    13|          US|           12| 85.98714294381844|\n",
      "|    23|          US|           17|25.078424056691844|\n",
      "|     9|          US|            8| 80.90569408371147|\n",
      "|    15|            |           27| 63.52933382616075|\n",
      "|    26|          DE|           16|44.467305314479475|\n",
      "+------+------------+-------------+------------------+\n",
      "only showing top 5 rows\n",
      "\n"
     ]
    },
    {
     "data": {
      "text/plain": "(46, None)"
     },
     "execution_count": 90,
     "metadata": {},
     "output_type": "execute_result"
    }
   ],
   "source": [
    "ad_recommendation = df \\\n",
    "                    .groupBy(\"app_id\", \"country_code\", \"advertiser_id\") \\\n",
    "                    .agg(F.count(\"id\").alias(\"impressions\"), F.countDistinct(\"revenue\").alias(\"clicks\"), F.sum(\"revenue\").alias(\"revenue\")) \\\n",
    "                    .filter(\"country_code is not null\") \\\n",
    "                    .sort(F.col(\"app_id\").cast(\"int\")) \\\n",
    "                    .groupBy(\"app_id\", \"country_code\", \"advertiser_id\") \\\n",
    "                    .agg(F.max(\"revenue\").alias(\"Total Revenue\"))\n",
    "\n",
    "ad_recommendation.count(), ad_recommendation.show(5)"
   ],
   "metadata": {
    "collapsed": false,
    "pycharm": {
     "name": "#%%\n"
    }
   }
  },
  {
   "cell_type": "markdown",
   "source": [
    "### Format conversion for ease of access"
   ],
   "metadata": {
    "collapsed": false,
    "pycharm": {
     "name": "#%% md\n"
    }
   }
  },
  {
   "cell_type": "code",
   "execution_count": 91,
   "outputs": [
    {
     "data": {
      "text/plain": "  app_id country_code  advertiser_id  Total Revenue\n0     13           US             12      85.987143\n1     23           US             17      25.078424\n2      9           US              8      80.905694",
      "text/html": "<div>\n<style scoped>\n    .dataframe tbody tr th:only-of-type {\n        vertical-align: middle;\n    }\n\n    .dataframe tbody tr th {\n        vertical-align: top;\n    }\n\n    .dataframe thead th {\n        text-align: right;\n    }\n</style>\n<table border=\"1\" class=\"dataframe\">\n  <thead>\n    <tr style=\"text-align: right;\">\n      <th></th>\n      <th>app_id</th>\n      <th>country_code</th>\n      <th>advertiser_id</th>\n      <th>Total Revenue</th>\n    </tr>\n  </thead>\n  <tbody>\n    <tr>\n      <th>0</th>\n      <td>13</td>\n      <td>US</td>\n      <td>12</td>\n      <td>85.987143</td>\n    </tr>\n    <tr>\n      <th>1</th>\n      <td>23</td>\n      <td>US</td>\n      <td>17</td>\n      <td>25.078424</td>\n    </tr>\n    <tr>\n      <th>2</th>\n      <td>9</td>\n      <td>US</td>\n      <td>8</td>\n      <td>80.905694</td>\n    </tr>\n  </tbody>\n</table>\n</div>"
     },
     "execution_count": 91,
     "metadata": {},
     "output_type": "execute_result"
    }
   ],
   "source": [
    "ad_recommendation_pd = ad_recommendation.toPandas()\n",
    "ad_recommendation_pd.head(3)"
   ],
   "metadata": {
    "collapsed": false,
    "pycharm": {
     "name": "#%%\n"
    }
   }
  },
  {
   "cell_type": "markdown",
   "source": [
    "### Writing Output as JSON file"
   ],
   "metadata": {
    "collapsed": false
   }
  },
  {
   "cell_type": "code",
   "execution_count": 92,
   "outputs": [],
   "source": [
    "us_ads = []\n",
    "uk_ads = []\n",
    "it_ads = []\n",
    "de_ads = []\n",
    "others = []\n",
    "\n",
    "for index, items in ad_recommendation_pd.iterrows():\n",
    "\n",
    "    if items['country_code'] == 'US': us_ads.append(items['advertiser_id'])\n",
    "    elif items['country_code'] == 'UK': uk_ads.append(items['advertiser_id'])\n",
    "    elif items['country_code'] == 'IT': it_ads.append(items['advertiser_id'])\n",
    "    elif items['country_code'] == 'DE': de_ads.append(items['advertiser_id'])\n",
    "    else: others.append(items['advertiser_id'])\n",
    "\n"
   ],
   "metadata": {
    "collapsed": false,
    "pycharm": {
     "name": "#%%\n"
    }
   }
  },
  {
   "cell_type": "code",
   "execution_count": 93,
   "outputs": [],
   "source": [
    "sourceFile_3 = open('Question_3_result_output.json', 'w')\n",
    "for index, ids in ad_recommendation_pd.iterrows():\n",
    "    if ids[\"country_code\"] == 'US': print(\"\\n\\t{\\n\\t\\t\\\"app_id\\\":\", ids[\"app_id\"], \"\\n \\t\\t\\\"country_code\\\":\", ids[\"country_code\"], \"\\n \\t\\t\\\"recommended_advertiser_id\\\":\", us_ads[:5], \"\\n\\t},\", file = sourceFile_3)\n",
    "    elif ids[\"country_code\"] == 'UK': print(\"\\n\\t{\\n\\t\\t\\\"app_id\\\":\", ids[\"app_id\"], \"\\n \\t\\t\\\"country_code\\\":\", ids[\"country_code\"], \"\\n \\t\\t\\\"recommended_advertiser_id\\\":\", uk_ads[:5], \"\\n\\t},\", file = sourceFile_3)\n",
    "    elif ids[\"country_code\"] == 'IT': print(\"\\n\\t{\\n\\t\\t\\\"app_id\\\":\", ids[\"app_id\"], \"\\n \\t\\t\\\"country_code\\\":\", ids[\"country_code\"], \"\\n \\t\\t\\\"recommended_advertiser_id\\\":\", it_ads[:5], \"\\n\\t},\", file = sourceFile_3)\n",
    "    elif ids[\"country_code\"] == 'DE': print(\"\\n\\t{\\n\\t\\t\\\"app_id\\\":\", ids[\"app_id\"], \"\\n \\t\\t\\\"country_code\\\":\", ids[\"country_code\"], \"\\n \\t\\t\\\"recommended_advertiser_id\\\":\", de_ads[:5], \"\\n\\t},\", file = sourceFile_3)\n",
    "    else: print(\"\\n\\t{\\n\\t\\t\\\"app_id\\\":\", ids[\"app_id\"], \"\\n \\t\\t\\\"country_code\\\":\", ids[\"country_code\"], \"\\n \\t\\t\\\"recommended_advertiser_id\\\":\", others[:5], \"\\n\\t},\", file = sourceFile_3)\n",
    "sourceFile_3.close()"
   ],
   "metadata": {
    "collapsed": false,
    "pycharm": {
     "name": "#%%\n"
    }
   }
  },
  {
   "cell_type": "code",
   "execution_count": 94,
   "outputs": [
    {
     "name": "stdout",
     "output_type": "stream",
     "text": [
      " \u001B[0m\u001B[01;34mblockmgr-a4000823-c856-4bc2-839b-ba7b9f5ea7c6\u001B[0m/\r\n",
      " \u001B[01;34mblockmgr-e1b9ff69-31a1-4685-91be-9588d91367b2\u001B[0m/\r\n",
      "\u001B[01;34m'Bridge To Kubernetes'\u001B[0m/\r\n",
      " config-err-cnV85d\r\n",
      " \u001B[01;34mhsperfdata_computech\u001B[0m/\r\n",
      " \u001B[01;34mhsperfdata_root\u001B[0m/\r\n",
      " idea.sbt\r\n",
      " \u001B[01;34mintellij-scala-trace-logger\u001B[0m/\r\n",
      " juju-mk0fa45cb1ce4f94e72bc1914d8a34d48af92801\r\n",
      " juju-mk5de22c3aec3ce5243c7c94cf68c5a7a1ae698f\r\n",
      " juju-mkaf09319d9954fa102c931ecbd41944d9dd29b9\r\n",
      " \u001B[01;34mkafka-logs\u001B[0m/\r\n",
      " kotlin-idea-9547162286627969969-is-running\r\n",
      " liblz4-java-14608291342448917710.so\r\n",
      " liblz4-java-14608291342448917710.so.lck\r\n",
      " liblz4-java-20064901511103493.so\r\n",
      " liblz4-java-20064901511103493.so.lck\r\n",
      " migrate_db\r\n",
      " minikube_update-check_b107324af521d9e2e50fd3fe6194bb47b4fb5279_0.log\r\n",
      " minikube_version_93e4805e095a4d039cc9de3d9ca359634884ef5c_0.log\r\n",
      " model.model.ce94127b\r\n",
      " \u001B[01;34mmozilla_computech0\u001B[0m/\r\n",
      " \u001B[01;34mQ2_output.json\u001B[0m/\r\n",
      " qtsingleapp-RStudi-c679-3e8-lockfile\r\n",
      " Question_2_result_output.json\r\n",
      " Question_3_result_output.json\r\n",
      " sbt-structure.xml\r\n",
      " \u001B[01;34msnap.canonical-livepatch\u001B[0m/\r\n",
      " \u001B[01;34msnap.snap-store\u001B[0m/\r\n",
      " \u001B[01;34msnap.vlc\u001B[0m/\r\n",
      " \u001B[01;34mspark-59259139-21af-4722-a9a1-16858957a8a7\u001B[0m/\r\n",
      " \u001B[01;34mspark-7d841b37-7a2a-425d-82c6-02278e16de56\u001B[0m/\r\n",
      " \u001B[01;34mspark-7db099f9-5eec-40f1-b6f3-38087b02f24d\u001B[0m/\r\n",
      " \u001B[01;34mspark-ebdbcd7d-386e-49c4-929c-5a7c73c88239\u001B[0m/\r\n",
      " \u001B[01;34mssh-J77bqEXNDxM2\u001B[0m/\r\n",
      " \u001B[01;34mswoval-jni\u001B[0m/\r\n",
      " \u001B[01;34msystemd-private-e7e8bae8c7d848e6a0fbd1ce055b683d-colord.service-Mhmn7i\u001B[0m/\r\n",
      " \u001B[01;34msystemd-private-e7e8bae8c7d848e6a0fbd1ce055b683d-ModemManager.service-ZHy6Ri\u001B[0m/\r\n",
      " \u001B[01;34msystemd-private-e7e8bae8c7d848e6a0fbd1ce055b683d-switcheroo-control.service-foGagj\u001B[0m\u001B[K/\r\n",
      " \u001B[01;34msystemd-private-e7e8bae8c7d848e6a0fbd1ce055b683d-systemd-logind.service-zt35ui\u001B[0m/\r\n",
      " \u001B[01;34msystemd-private-e7e8bae8c7d848e6a0fbd1ce055b683d-systemd-resolved.service-l0vZuf\u001B[0m\u001B[K/\r\n",
      " \u001B[01;34msystemd-private-e7e8bae8c7d848e6a0fbd1ce055b683d-systemd-timesyncd.service-NU3fRg\u001B[0m\u001B[K/\r\n",
      " \u001B[01;34msystemd-private-e7e8bae8c7d848e6a0fbd1ce055b683d-upower.service-DFM97g\u001B[0m/\r\n",
      " \u001B[01;34mTemp-3515ed98-a25e-4fa6-81cd-a6e28286f816\u001B[0m/\r\n",
      " \u001B[01;34mtmp0xoydc2m\u001B[0m/\r\n",
      " \u001B[01;34mtmp4qkvenyc\u001B[0m/\r\n",
      " tmp-547125RgqSXvYSOp9\r\n",
      " tmp-54712hBsersAYxNl2\r\n",
      " tmp-54712HYdmakb35uGO\r\n",
      " \u001B[01;34mtmp6nbg3og2\u001B[0m/\r\n",
      " tmp-7dc.xpi\r\n",
      " \u001B[01;34mtmpfeh7p9q8\u001B[0m/\r\n",
      " \u001B[01;34mtmpfmo0nl5o\u001B[0m/\r\n",
      " \u001B[01;34mtmpm2ca2yaw\u001B[0m/\r\n",
      " \u001B[01;34mtmpnl0m5hkn\u001B[0m/\r\n",
      " \u001B[01;34mtmpoxo1xqg0\u001B[0m/\r\n",
      " \u001B[01;34mtmppz82t8u7\u001B[0m/\r\n",
      " tmp-us0.xpi\r\n",
      " \u001B[01;34mtmpyrwoa_dr\u001B[0m/\r\n",
      " \u001B[01;34mtomcat.8080.5659550323578203119\u001B[0m/\r\n",
      " \u001B[01;34mtomcat.8080.6547875462770909356\u001B[0m/\r\n",
      " \u001B[01;34mtomcat.8080.9695816978648080753\u001B[0m/\r\n",
      " \u001B[01;34mtracker-extract-files.1000\u001B[0m/\r\n",
      " \u001B[01;34mtracker-extract-files.125\u001B[0m/\r\n",
      " \u001B[01;34mvscode-skaffold-events-logs\u001B[0m/\r\n",
      " \u001B[01;34mvscode-typescript1000\u001B[0m/\r\n",
      " \u001B[01;34mzookeeper\u001B[0m/\r\n",
      "/tmp\n"
     ]
    }
   ],
   "source": [
    "%ls\n",
    "%cd /tmp"
   ],
   "metadata": {
    "collapsed": false,
    "pycharm": {
     "name": "#%%\n"
    }
   }
  },
  {
   "cell_type": "code",
   "execution_count": 95,
   "outputs": [
    {
     "name": "stdout",
     "output_type": "stream",
     "text": [
      "\r\n",
      "\t{\r\n",
      "\t\t\"app_id\": 13 \r\n",
      " \t\t\"country_code\": US \r\n",
      " \t\t\"recommended_advertiser_id\": [12, 17, 8, 5, 9] \r\n",
      "\t},\r\n",
      "\r\n",
      "\t{\r\n",
      "\t\t\"app_id\": 23 \r\n",
      " \t\t\"country_code\": US \r\n",
      " \t\t\"recommended_advertiser_id\": [12, 17, 8, 5, 9] \r\n",
      "\t},\r\n",
      "\r\n",
      "\t{\r\n",
      "\t\t\"app_id\": 9 \r\n",
      " \t\t\"country_code\": US \r\n",
      " \t\t\"recommended_advertiser_id\": [12, 17, 8, 5, 9] \r\n",
      "\t},\r\n",
      "\r\n",
      "\t{\r\n",
      "\t\t\"app_id\": 15 \r\n",
      " \t\t\"country_code\":  \r\n",
      " \t\t\"recommended_advertiser_id\": [27, 12, 7, 7, 23] \r\n",
      "\t},\r\n",
      "\r\n",
      "\t{\r\n",
      "\t\t\"app_id\": 26 \r\n",
      " \t\t\"country_code\": DE \r\n",
      " \t\t\"recommended_advertiser_id\": [16, 14, 22, 10, 27] \r\n",
      "\t},\r\n",
      "\r\n",
      "\t{\r\n",
      "\t\t\"app_id\": 40 \r\n",
      " \t\t\"country_code\": DE \r\n",
      " \t\t\"recommended_advertiser_id\": [16, 14, 22, 10, 27] \r\n",
      "\t},\r\n",
      "\r\n",
      "\t{\r\n",
      "\t\t\"app_id\": 25 \r\n",
      " \t\t\"country_code\":  \r\n",
      " \t\t\"recommended_advertiser_id\": [27, 12, 7, 7, 23] \r\n",
      "\t},\r\n",
      "\r\n",
      "\t{\r\n",
      "\t\t\"app_id\": 2 \r\n",
      " \t\t\"country_code\":  \r\n",
      " \t\t\"recommended_advertiser_id\": [27, 12, 7, 7, 23] \r\n",
      "\t},\r\n",
      "\r\n",
      "\t{\r\n",
      "\t\t\"app_id\": 39 \r\n",
      " \t\t\"country_code\": US \r\n",
      " \t\t\"recommended_advertiser_id\": [12, 17, 8, 5, 9] \r\n",
      "\t},\r\n",
      "\r\n",
      "\t{\r\n",
      "\t\t\"app_id\": 30 \r\n",
      " \t\t\"country_code\": US \r\n",
      " \t\t\"recommended_advertiser_id\": [12, 17, 8, 5, 9] \r\n",
      "\t},\r\n",
      "\r\n",
      "\t{\r\n",
      "\t\t\"app_id\": 14 \r\n",
      " \t\t\"country_code\": UK \r\n",
      " \t\t\"recommended_advertiser_id\": [10, 19, 17, 11] \r\n",
      "\t},\r\n",
      "\r\n",
      "\t{\r\n",
      "\t\t\"app_id\": 21 \r\n",
      " \t\t\"country_code\": DE \r\n",
      " \t\t\"recommended_advertiser_id\": [16, 14, 22, 10, 27] \r\n",
      "\t},\r\n",
      "\r\n",
      "\t{\r\n",
      "\t\t\"app_id\": 38 \r\n",
      " \t\t\"country_code\":  \r\n",
      " \t\t\"recommended_advertiser_id\": [27, 12, 7, 7, 23] \r\n",
      "\t},\r\n",
      "\r\n",
      "\t{\r\n",
      "\t\t\"app_id\": 24 \r\n",
      " \t\t\"country_code\": UK \r\n",
      " \t\t\"recommended_advertiser_id\": [10, 19, 17, 11] \r\n",
      "\t},\r\n",
      "\r\n",
      "\t{\r\n",
      "\t\t\"app_id\": 1 \r\n",
      " \t\t\"country_code\": IT \r\n",
      " \t\t\"recommended_advertiser_id\": [7, 14, 15, 10, 6] \r\n",
      "\t},\r\n",
      "\r\n",
      "\t{\r\n",
      "\t\t\"app_id\": 10 \r\n",
      " \t\t\"country_code\": US \r\n",
      " \t\t\"recommended_advertiser_id\": [12, 17, 8, 5, 9] \r\n",
      "\t},\r\n",
      "\r\n",
      "\t{\r\n",
      "\t\t\"app_id\": 18 \r\n",
      " \t\t\"country_code\": DE \r\n",
      " \t\t\"recommended_advertiser_id\": [16, 14, 22, 10, 27] \r\n",
      "\t},\r\n",
      "\r\n",
      "\t{\r\n",
      "\t\t\"app_id\": 27 \r\n",
      " \t\t\"country_code\": IT \r\n",
      " \t\t\"recommended_advertiser_id\": [7, 14, 15, 10, 6] \r\n",
      "\t},\r\n",
      "\r\n",
      "\t{\r\n",
      "\t\t\"app_id\": 30 \r\n",
      " \t\t\"country_code\": DE \r\n",
      " \t\t\"recommended_advertiser_id\": [16, 14, 22, 10, 27] \r\n",
      "\t},\r\n",
      "\r\n",
      "\t{\r\n",
      "\t\t\"app_id\": 4 \r\n",
      " \t\t\"country_code\": IT \r\n",
      " \t\t\"recommended_advertiser_id\": [7, 14, 15, 10, 6] \r\n",
      "\t},\r\n",
      "\r\n",
      "\t{\r\n",
      "\t\t\"app_id\": 13 \r\n",
      " \t\t\"country_code\":  \r\n",
      " \t\t\"recommended_advertiser_id\": [27, 12, 7, 7, 23] \r\n",
      "\t},\r\n",
      "\r\n",
      "\t{\r\n",
      "\t\t\"app_id\": 7 \r\n",
      " \t\t\"country_code\": DE \r\n",
      " \t\t\"recommended_advertiser_id\": [16, 14, 22, 10, 27] \r\n",
      "\t},\r\n",
      "\r\n",
      "\t{\r\n",
      "\t\t\"app_id\": 38 \r\n",
      " \t\t\"country_code\": IT \r\n",
      " \t\t\"recommended_advertiser_id\": [7, 14, 15, 10, 6] \r\n",
      "\t},\r\n",
      "\r\n",
      "\t{\r\n",
      "\t\t\"app_id\": 16 \r\n",
      " \t\t\"country_code\": UK \r\n",
      " \t\t\"recommended_advertiser_id\": [10, 19, 17, 11] \r\n",
      "\t},\r\n",
      "\r\n",
      "\t{\r\n",
      "\t\t\"app_id\": 40 \r\n",
      " \t\t\"country_code\": DE \r\n",
      " \t\t\"recommended_advertiser_id\": [16, 14, 22, 10, 27] \r\n",
      "\t},\r\n",
      "\r\n",
      "\t{\r\n",
      "\t\t\"app_id\": 22 \r\n",
      " \t\t\"country_code\": DE \r\n",
      " \t\t\"recommended_advertiser_id\": [16, 14, 22, 10, 27] \r\n",
      "\t},\r\n",
      "\r\n",
      "\t{\r\n",
      "\t\t\"app_id\": 33 \r\n",
      " \t\t\"country_code\": US \r\n",
      " \t\t\"recommended_advertiser_id\": [12, 17, 8, 5, 9] \r\n",
      "\t},\r\n",
      "\r\n",
      "\t{\r\n",
      "\t\t\"app_id\": 7 \r\n",
      " \t\t\"country_code\": IT \r\n",
      " \t\t\"recommended_advertiser_id\": [7, 14, 15, 10, 6] \r\n",
      "\t},\r\n",
      "\r\n",
      "\t{\r\n",
      "\t\t\"app_id\": 15 \r\n",
      " \t\t\"country_code\": US \r\n",
      " \t\t\"recommended_advertiser_id\": [12, 17, 8, 5, 9] \r\n",
      "\t},\r\n",
      "\r\n",
      "\t{\r\n",
      "\t\t\"app_id\": 11 \r\n",
      " \t\t\"country_code\": US \r\n",
      " \t\t\"recommended_advertiser_id\": [12, 17, 8, 5, 9] \r\n",
      "\t},\r\n",
      "\r\n",
      "\t{\r\n",
      "\t\t\"app_id\": 6 \r\n",
      " \t\t\"country_code\":  \r\n",
      " \t\t\"recommended_advertiser_id\": [27, 12, 7, 7, 23] \r\n",
      "\t},\r\n",
      "\r\n",
      "\t{\r\n",
      "\t\t\"app_id\": 24 \r\n",
      " \t\t\"country_code\":  \r\n",
      " \t\t\"recommended_advertiser_id\": [27, 12, 7, 7, 23] \r\n",
      "\t},\r\n",
      "\r\n",
      "\t{\r\n",
      "\t\t\"app_id\": 28 \r\n",
      " \t\t\"country_code\": US \r\n",
      " \t\t\"recommended_advertiser_id\": [12, 17, 8, 5, 9] \r\n",
      "\t},\r\n",
      "\r\n",
      "\t{\r\n",
      "\t\t\"app_id\": 34 \r\n",
      " \t\t\"country_code\": DE \r\n",
      " \t\t\"recommended_advertiser_id\": [16, 14, 22, 10, 27] \r\n",
      "\t},\r\n",
      "\r\n",
      "\t{\r\n",
      "\t\t\"app_id\": 13 \r\n",
      " \t\t\"country_code\": DE \r\n",
      " \t\t\"recommended_advertiser_id\": [16, 14, 22, 10, 27] \r\n",
      "\t},\r\n",
      "\r\n",
      "\t{\r\n",
      "\t\t\"app_id\": 25 \r\n",
      " \t\t\"country_code\": UK \r\n",
      " \t\t\"recommended_advertiser_id\": [10, 19, 17, 11] \r\n",
      "\t},\r\n",
      "\r\n",
      "\t{\r\n",
      "\t\t\"app_id\": 16 \r\n",
      " \t\t\"country_code\": US \r\n",
      " \t\t\"recommended_advertiser_id\": [12, 17, 8, 5, 9] \r\n",
      "\t},\r\n",
      "\r\n",
      "\t{\r\n",
      "\t\t\"app_id\": 5 \r\n",
      " \t\t\"country_code\": IT \r\n",
      " \t\t\"recommended_advertiser_id\": [7, 14, 15, 10, 6] \r\n",
      "\t},\r\n",
      "\r\n",
      "\t{\r\n",
      "\t\t\"app_id\": 19 \r\n",
      " \t\t\"country_code\":  \r\n",
      " \t\t\"recommended_advertiser_id\": [27, 12, 7, 7, 23] \r\n",
      "\t},\r\n",
      "\r\n",
      "\t{\r\n",
      "\t\t\"app_id\": 22 \r\n",
      " \t\t\"country_code\": IT \r\n",
      " \t\t\"recommended_advertiser_id\": [7, 14, 15, 10, 6] \r\n",
      "\t},\r\n",
      "\r\n",
      "\t{\r\n",
      "\t\t\"app_id\": 5 \r\n",
      " \t\t\"country_code\": DE \r\n",
      " \t\t\"recommended_advertiser_id\": [16, 14, 22, 10, 27] \r\n",
      "\t},\r\n",
      "\r\n",
      "\t{\r\n",
      "\t\t\"app_id\": 18 \r\n",
      " \t\t\"country_code\": IT \r\n",
      " \t\t\"recommended_advertiser_id\": [7, 14, 15, 10, 6] \r\n",
      "\t},\r\n",
      "\r\n",
      "\t{\r\n",
      "\t\t\"app_id\": 23 \r\n",
      " \t\t\"country_code\": US \r\n",
      " \t\t\"recommended_advertiser_id\": [12, 17, 8, 5, 9] \r\n",
      "\t},\r\n",
      "\r\n",
      "\t{\r\n",
      "\t\t\"app_id\": 35 \r\n",
      " \t\t\"country_code\": IT \r\n",
      " \t\t\"recommended_advertiser_id\": [7, 14, 15, 10, 6] \r\n",
      "\t},\r\n",
      "\r\n",
      "\t{\r\n",
      "\t\t\"app_id\": 30 \r\n",
      " \t\t\"country_code\": US \r\n",
      " \t\t\"recommended_advertiser_id\": [12, 17, 8, 5, 9] \r\n",
      "\t},\r\n",
      "\r\n",
      "\t{\r\n",
      "\t\t\"app_id\": 9 \r\n",
      " \t\t\"country_code\":  \r\n",
      " \t\t\"recommended_advertiser_id\": [27, 12, 7, 7, 23] \r\n",
      "\t},\r\n"
     ]
    }
   ],
   "source": [
    "%cat Question_3_result_output.json > \"/home/computech/PycharmProjects/VCC/venv/vccarena/Q3_output.json\"\n",
    "%cat Question_3_result_output.json"
   ],
   "metadata": {
    "collapsed": false,
    "pycharm": {
     "name": "#%%\n"
    }
   }
  },
  {
   "cell_type": "markdown",
   "source": [
    "### Thank you for reading thus far"
   ],
   "metadata": {
    "collapsed": false,
    "pycharm": {
     "name": "#%% md\n"
    }
   }
  },
  {
   "cell_type": "code",
   "execution_count": 95,
   "outputs": [],
   "source": [],
   "metadata": {
    "collapsed": false,
    "pycharm": {
     "name": "#%%\n"
    }
   }
  }
 ],
 "metadata": {
  "kernelspec": {
   "display_name": "Python 3",
   "language": "python",
   "name": "python3"
  },
  "language_info": {
   "codemirror_mode": {
    "name": "ipython",
    "version": 2
   },
   "file_extension": ".py",
   "mimetype": "text/x-python",
   "name": "python",
   "nbconvert_exporter": "python",
   "pygments_lexer": "ipython2",
   "version": "2.7.6"
  }
 },
 "nbformat": 4,
 "nbformat_minor": 0
}